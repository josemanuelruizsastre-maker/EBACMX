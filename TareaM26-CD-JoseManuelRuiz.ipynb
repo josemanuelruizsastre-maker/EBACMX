{
 "cells": [
  {
   "cell_type": "code",
   "execution_count": 1,
   "id": "131b5afc",
   "metadata": {},
   "outputs": [
    {
     "name": "stdout",
     "output_type": "stream",
     "text": [
      "Current working directory: c:\\Users\\Pc\\Desktop\\curso python\n",
      "La raíz cuadrada de 49 es: 7.0\n"
     ]
    }
   ],
   "source": [
    "#importar la funcion completa \"csv\" para tratamiento de archivos\n",
    "import csv\n",
    "#importar la función \"os\" para leer el directorio actual\n",
    "import os\n",
    "#get the current working directory\n",
    "cwd = os.getcwd()\n",
    "#print the current working directory\n",
    "print(\"Current working directory: {0}\".format(cwd))\n",
    "\n",
    "import math\n",
    "raiz_cuadrada = lambda numero: numero ** 0.5\n",
    "numero = 49\n",
    "resultado = raiz_cuadrada(numero)\n",
    "print(f\"La raíz cuadrada de {numero} es: {resultado}\") "
   ]
  },
  {
   "cell_type": "code",
   "execution_count": null,
   "id": "c42527a0",
   "metadata": {},
   "outputs": [
    {
     "data": {
      "text/plain": [
       "['Rank',\n",
       " 'Country Name',\n",
       " 'Male Height in Cm',\n",
       " 'Female Height in Cm',\n",
       " 'Male Height in Ft',\n",
       " 'Female Height in Ft']"
      ]
     },
     "execution_count": 2,
     "metadata": {},
     "output_type": "execute_result"
    }
   ],
   "source": [
    "#cambiar directorio\n",
    "import os\n",
    "os.chdir('/Users/Pc/Downloads')\n",
    "\n",
    "#Abre el archivo de lectura\n",
    "file = open(r'./Height of Male and Female by Country 2022.csv')\n",
    "\n",
    "#Lee el archivo en el objeto csvreader\n",
    "csvreader = csv.reader(file)\n",
    "header = []\n",
    "header = next(csvreader)\n",
    "header"
   ]
  },
  {
   "cell_type": "code",
   "execution_count": 3,
   "id": "6a8c71b8",
   "metadata": {},
   "outputs": [
    {
     "name": "stdout",
     "output_type": "stream",
     "text": [
      "[['1', 'Netherlands', '183.78', '170.36', '6.03', '5.59'], ['2', 'Montenegro', '183.30', '169.96', '6.01', '5.58'], ['3', 'Estonia', '182.79', '168.66', '6.00', '5.53'], ['4', 'Bosnia and Herzegovina', '182.47', '167.47', '5.99', '5.49'], ['5', 'Iceland', '182.10', '168.91', '5.97', '5.54'], ['6', 'Denmark', '181.89', '169.47', '5.97', '5.56'], ['7', 'Czech Republic', '181.19', '167.96', '5.94', '5.51'], ['8', 'Latvia', '181.17', '168.81', '5.94', '5.54'], ['9', 'Slovakia', '181.02', '167.12', '5.94', '5.48'], ['10', 'Slovenia', '180.98', '167.20', '5.94', '5.49'], ['11', 'Ukraine', '180.98', '166.62', '5.94', '5.47'], ['12', 'Croatia', '180.76', '166.80', '5.93', '5.47'], ['13', 'Serbia', '180.74', '168.29', '5.93', '5.52'], ['14', 'Lithuania', '180.72', '167.63', '5.93', '5.50'], ['15', 'Poland', '180.69', '165.78', '5.93', '5.44'], ['16', 'Finland', '180.57', '166.48', '5.92', '5.46'], ['17', 'Norway', '180.48', '166.45', '5.92', '5.46'], ['18', 'Sweden', '180.46', '166.67', '5.92', '5.47'], ['19', 'Germany', '180.28', '166.18', '5.91', '5.45'], ['20', 'Dominica', '180.15', '166.89', '5.91', '5.48'], ['21', 'Bermuda', '179.72', '166.11', '5.90', '5.45'], ['22', 'Puerto Rico', '179.48', '163.06', '5.89', '5.35'], ['23', 'Greece', '179.26', '165.81', '5.88', '5.44'], ['24', 'Belgium', '179.09', '163.40', '5.88', '5.36'], ['25', 'Ireland', '179.04', '164.50', '5.87', '5.40'], ['26', 'Lebanon', '178.96', '163.67', '5.87', '5.37'], ['27', 'Andorra', '178.84', '165.53', '5.87', '5.43'], ['28', 'Antigua and Barbuda', '178.84', '165.72', '5.87', '5.44'], ['29', 'Australia', '178.77', '164.67', '5.87', '5.40'], ['30', 'Canada', '178.75', '164.73', '5.86', '5.40'], ['31', 'Switzerland', '178.73', '164.33', '5.86', '5.39'], ['32', 'Grenada', '178.70', '165.99', '5.86', '5.45'], ['33', 'Belarus', '178.69', '166.93', '5.86', '5.48'], ['34', 'France', '178.60', '164.49', '5.86', '5.40'], ['35', 'Austria', '178.52', '166.93', '5.86', '5.48'], ['36', 'Luxembourg', '178.46', '165.07', '5.86', '5.42'], ['37', 'Cook Islands', '178.32', '167.31', '5.85', '5.49'], ['38', 'French Polynesia', '178.32', '166.52', '5.85', '5.46'], ['39', 'United Kingdom', '178.21', '163.94', '5.85', '5.38'], ['40', 'Romania', '177.82', '164.73', '5.83', '5.40'], ['41', 'New Zealand', '177.72', '164.66', '5.83', '5.40'], ['42', 'Saint Vincent and the Grenadines', '177.49', '165.30', '5.82', '5.42'], ['43', 'Niue', '177.19', '167.03', '5.81', '5.48'], ['44', 'American Samoa', '177.09', '167.55', '5.81', '5.50'], ['45', 'Barbados', '177.03', '165.66', '5.81', '5.44'], ['46', 'Jamaica', '176.97', '164.32', '5.81', '5.39'], ['47', 'United States', '176.94', '163.31', '5.81', '5.36'], ['48', 'Tunisia', '176.85', '161.69', '5.80', '5.30'], ['49', 'Russia', '176.65', '164.52', '5.80', '5.40'], ['50', 'Hungary', '176.59', '162.55', '5.79', '5.33']]\n"
     ]
    }
   ],
   "source": [
    "#imprime las primeras 50 lineas\n",
    "all_rows = []  # Use a different variable name for the accumulating list\n",
    "for rows in csvreader:  # Use a different variable name for each individual row\n",
    "    all_rows.append(rows)\n",
    "print(all_rows[:50])"
   ]
  },
  {
   "cell_type": "code",
   "execution_count": 4,
   "id": "990b0131",
   "metadata": {},
   "outputs": [
    {
     "data": {
      "text/plain": [
       "array(['1', 'Netherlands', '183.78', '170.36', '6.03', '5.59'],\n",
       "      dtype='<U32')"
      ]
     },
     "execution_count": 4,
     "metadata": {},
     "output_type": "execute_result"
    }
   ],
   "source": [
    "#Calcular la media, mínima y máxima altura de hombres y mujeres del data set completo  \n",
    "#generamos el objeto movies con todas las filas de la lista\n",
    "import numpy as np\n",
    "datos = np.array(all_rows)\n",
    "#muestra la primera linea del archivo\n",
    "datos[0]\n"
   ]
  },
  {
   "cell_type": "code",
   "execution_count": 5,
   "id": "51dc9559",
   "metadata": {},
   "outputs": [
    {
     "name": "stdout",
     "output_type": "stream",
     "text": [
      "La estatura promedio en cm de los hombres del archivo es el 173.09\n",
      "Además, la desviaciónestándar de los datos nos muestra que se tienen 4.95 cm de desviación estándar\n",
      "La estatura minima de los hombres en la base de datos es 160.13\n",
      "La estatura máxima de los hombres en la base de datos es 183.78\n"
     ]
    }
   ],
   "source": [
    "#vamos a generar un array solamente de la estatura cm en homres\n",
    "estatura_hombres = datos[:,2]\n",
    "#calculo de la media y desviación estandar\n",
    "from statistics import mean, median, mode, stdev\n",
    "#transformacion del array en numeros\n",
    "estatura_hombres_float = [float(numeric_string) for numeric_string in estatura_hombres]\n",
    "mean_hombres = mean(estatura_hombres_float)\n",
    "stdev_hombres = stdev(estatura_hombres_float)\n",
    "min_hombres = min (estatura_hombres_float)\n",
    "max_hombres = max(estatura_hombres_float)\n",
    "#Reporte estadistico de los datos\n",
    "print ('La estatura promedio en cm de los hombres del archivo es el', round(mean_hombres,2))\n",
    "print('Además, la desviaciónestándar de los datos nos muestra que se tienen', round(stdev_hombres,2),'cm de desviación estándar')\n",
    "print('La estatura minima de los hombres en la base de datos es', min_hombres)\n",
    "print('La estatura máxima de los hombres en la base de datos es', max_hombres)\n"
   ]
  },
  {
   "cell_type": "code",
   "execution_count": null,
   "id": "ee5ea68c",
   "metadata": {},
   "outputs": [
    {
     "name": "stdout",
     "output_type": "stream",
     "text": [
      "La estatura promedio en cm de los hombres del archivo es el 160.94\n",
      "Además, la desviaciónestándar de los datos nos muestra que se tienen 4.08 cm de desviación estándar\n",
      "La estatura minima de los hombres en la base de datos es 150.91\n",
      "La estatura máxima de los hombres en la base de datos es 170.36\n"
     ]
    }
   ],
   "source": [
    "#vamos a generar un array solamente de la estatura cm en mujeres\n",
    "estatura_mujeres = datos[:,3]\n",
    "#calculo de la media y desviación estandar\n",
    "from statistics import mean, median, mode, stdev\n",
    "#transformacion del array en numeros\n",
    "estatura_mujeres_float = [float(numeric_string) for numeric_string in estatura_mujeres]\n",
    "mean_mujeres = mean(estatura_mujeres_float)\n",
    "stdev_mujeres = stdev(estatura_mujeres_float)\n",
    "min_mujeres = min (estatura_mujeres_float)\n",
    "max_mujeres = max(estatura_mujeres_float)\n",
    "#Reporte estadistico de los datos\n",
    "print ('La estatura promedio en cm de los hombres del archivo es el', round(mean_mujeres,2))\n",
    "print('Además, la desviaciónestándar de los datos nos muestra que se tienen', round(stdev_mujeres,2),'cm de desviación estándar')\n",
    "print('La estatura minima de los hombres en la base de datos es', min_mujeres)\n",
    "print('La estatura máxima de los hombres en la base de datos es', max_mujeres)\n",
    "\n",
    "print('Aqui mi tarea de EBAC para GitHub')"
   ]
  }
 ],
 "metadata": {
  "kernelspec": {
   "display_name": "base",
   "language": "python",
   "name": "python3"
  },
  "language_info": {
   "codemirror_mode": {
    "name": "ipython",
    "version": 3
   },
   "file_extension": ".py",
   "mimetype": "text/x-python",
   "name": "python",
   "nbconvert_exporter": "python",
   "pygments_lexer": "ipython3",
   "version": "3.12.4"
  }
 },
 "nbformat": 4,
 "nbformat_minor": 5
}
